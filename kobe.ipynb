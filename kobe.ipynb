{
  "nbformat": 4,
  "nbformat_minor": 0,
  "metadata": {
    "colab": {
      "name": "kobe.ipynb",
      "provenance": [],
      "collapsed_sections": [],
      "mount_file_id": "1jqKHXnu9p3b-TAS8d2kv-dvXf6saKyzJ",
      "authorship_tag": "ABX9TyPWyIjO+NemAbN0OZgipaJw",
      "include_colab_link": true
    },
    "kernelspec": {
      "name": "python3",
      "display_name": "Python 3"
    },
    "language_info": {
      "name": "python"
    },
    "accelerator": "GPU",
    "gpuClass": "standard"
  },
  "cells": [
    {
      "cell_type": "markdown",
      "metadata": {
        "id": "view-in-github",
        "colab_type": "text"
      },
      "source": [
        "<a href=\"https://colab.research.google.com/github/satake12345/pytorch_auto_encoder/blob/main/kobe.ipynb\" target=\"_parent\"><img src=\"https://colab.research.google.com/assets/colab-badge.svg\" alt=\"Open In Colab\"/></a>"
      ]
    },
    {
      "cell_type": "code",
      "source": [
        "from google.colab import drive\n",
        "drive.mount('/content/drive')"
      ],
      "metadata": {
        "id": "yFdKnnqalYML"
      },
      "execution_count": null,
      "outputs": []
    },
    {
      "cell_type": "code",
      "source": [
        "# cd \"/content/drive/MyDrive/Colab Notebooks/imgs\"\n",
        "# cd \"/content/drive/MyDrive/Colab Notebooks/imgs/create_img\"\n",
        "# rm -r *.jpg\n",
        "# rm -r *.zip"
      ],
      "metadata": {
        "id": "Zs7ZDNLhvzgT"
      },
      "execution_count": 16,
      "outputs": []
    },
    {
      "cell_type": "code",
      "source": [
        "!bash"
      ],
      "metadata": {
        "id": "xShuBAUA-kXZ"
      },
      "execution_count": null,
      "outputs": []
    },
    {
      "cell_type": "code",
      "source": [
        "!pwd"
      ],
      "metadata": {
        "id": "UwmlsaJQ9fcM"
      },
      "execution_count": null,
      "outputs": []
    },
    {
      "cell_type": "code",
      "source": [
        "import os\n",
        "import glob\n",
        "#学習用正常データの読み出し\n",
        "good_list = glob.glob(os.path.join( \"/content/drive/MyDrive/Colab Notebooks/imgs/bottle/train/good/\" , '*'))\n",
        "\n",
        "#評価用正常データの読み出し\n",
        "good_test_list = glob.glob(os.path.join(\"/content/drive/MyDrive/Colab Notebooks/imgs/bottle/test/good/\" , '*'))\n",
        "\n",
        "#評価用異常データの読み出し\n",
        "bad_test_list = glob.glob(os.path.join(\"/content/drive/MyDrive/Colab Notebooks/imgs/bottle/test/broken_large\" , '*')) + glob.glob(os.path.join(\"/content/drive/MyDrive/Colab Notebooks/imgs/bottle/test/broken_small\" , '*')) + glob.glob(os.path.join(\"/content/drive/MyDrive/Colab Notebooks/imgs/bottle/test/contamination\" , '*'))\n",
        "#正常・異常データの数を確認\n",
        "print(f\"good {len(good_list)} good_test {len(good_test_list)} bad {len(bad_test_list)}\")\n"
      ],
      "metadata": {
        "id": "nF_QaK76t46k"
      },
      "execution_count": null,
      "outputs": []
    },
    {
      "cell_type": "code",
      "source": [
        "good_test_list += good_list[:43]\n",
        "good_list = good_list[43:]\n",
        "print(f\"good {len(good_list)} good_test {len(good_test_list)} bad {len(bad_test_list)}\")\n"
      ],
      "metadata": {
        "id": "yc7swCiuuu9q"
      },
      "execution_count": null,
      "outputs": []
    },
    {
      "cell_type": "code",
      "source": [
        "%matplotlib inline\n",
        "import matplotlib.pyplot as plt\n",
        "import matplotlib.image as mpimg\n",
        "from PIL import Image\n",
        "import math\n",
        "\n",
        "def view_img(img_list,title = \"\",size = (15,15)):\n",
        "    fig = plt.figure(figsize=size)\n",
        "    fig.suptitle(title)\n",
        "    for i,d in enumerate(img_list):\n",
        "        ax = fig.add_subplot(math.ceil(len(img_list)/2),2,i+1)\n",
        "        ax.imshow(Image.open(d))\n",
        "        ax.set_title(d)\n",
        "        ax.axis(\"off\")\n",
        "    \n",
        "#正常画像\n",
        "view_img(good_list[:4],title = \"good\")\n",
        "#異常画像\n",
        "view_img(bad_test_list[:4],title = \"bad\")"
      ],
      "metadata": {
        "id": "YKAlsmAFwoyC"
      },
      "execution_count": null,
      "outputs": []
    },
    {
      "cell_type": "code",
      "source": [
        "import torchvision.transforms as T\n",
        "from torch.utils.data import DataLoader,Dataset\n",
        "from PIL import Image\n",
        "\n",
        "# データセット関数の定義\n",
        "class Custom_Dataset(Dataset):\n",
        "  def __init__(self,img_list):\n",
        "    self.img_list = img_list\n",
        "    self.prepocess = T.Compose([T.Resize((128,128)),\n",
        "                                T.ToTensor(),\n",
        "                                ])\n",
        "  def __getitem__(self,idx):\n",
        "    img = Image.open(self.img_list[idx])\n",
        "    img = self.prepocess(img)\n",
        "    return img\n",
        "  def __len__(self):\n",
        "    return len(self.img_list)\n",
        "\n",
        "#データを学習用・評価用に8:2へ分割\n",
        "train_list = good_list[:int(len(good_list)*0.8)]\n",
        "val_list = good_list[int(len(good_list)*0.8):]\n",
        "\n",
        "train_dataset = Custom_Dataset(train_list)\n",
        "val_dataset = Custom_Dataset(val_list)\n",
        "train_loader = DataLoader(train_dataset,batch_size = 32)\n",
        "val_loader = DataLoader(val_dataset,batch_size = 32)"
      ],
      "metadata": {
        "id": "OCslEqPnwotC"
      },
      "execution_count": 7,
      "outputs": []
    },
    {
      "cell_type": "code",
      "source": [
        "import torch.nn as nn\n",
        "import torchvision\n",
        "\n",
        "class CustomModel(nn.Module):\n",
        "    def __init__(self):\n",
        "        super(CustomModel,self).__init__() \n",
        "        # Encoderの構築。\n",
        "        # nn.Sequential内にはEncoder内で行う一連の処理を記載する。\n",
        "        # create_convblockは複数回行う畳み込み処理をまとめた関数。\n",
        "        # 畳み込み→畳み込み→プーリング→畳み込み・・・・のような動作\n",
        "        self.Encoder = nn.Sequential(self.create_convblock(3,16),     #256\n",
        "                                     nn.MaxPool2d((2,2)),\n",
        "                                     self.create_convblock(16,32),    #128\n",
        "                                     nn.MaxPool2d((2,2)),\n",
        "                                     self.create_convblock(32,64),    #64\n",
        "                                     nn.MaxPool2d((2,2)),\n",
        "                                     self.create_convblock(64,128),   #32\n",
        "                                     nn.MaxPool2d((2,2)),\n",
        "                                     self.create_convblock(128,256),  #16\n",
        "                                     nn.MaxPool2d((2,2)),\n",
        "                                     self.create_convblock(256,512),  #8\n",
        "                                    )\n",
        "        # Decoderの構築。\n",
        "        # nn.Sequential内にはDecoder内で行う一連の処理を記載する。\n",
        "        # create_convblockは複数回行う畳み込み処理をまとめた関数。\n",
        "        # deconvblockは逆畳み込みの一連の処理をまとめた関数\n",
        "        # 逆畳み込み→畳み込み→畳み込み→逆畳み込み→畳み込み・・・・のような動作\n",
        "        self.Decoder = nn.Sequential(self.create_deconvblock(512,256), #16\n",
        "                                     self.create_convblock(256,256),\n",
        "                                     self.create_deconvblock(256,128), #32\n",
        "                                     self.create_convblock(128,128),\n",
        "                                     self.create_deconvblock(128,64),  #64\n",
        "                                     self.create_convblock(64,64),\n",
        "                                     self.create_deconvblock(64,32),   #128\n",
        "                                     self.create_convblock(32,32),\n",
        "                                     self.create_deconvblock(32,16),   #256\n",
        "                                     self.create_convblock(16,16),\n",
        "                                    )\n",
        "        # 出力前の調整用\n",
        "        self.last_layer = nn.Conv2d(16,3,1,1)\n",
        "                                        \n",
        "    # 畳み込みブロックの中身                            \n",
        "    def create_convblock(self,i_fn,o_fn):\n",
        "        conv_block = nn.Sequential(nn.Conv2d(i_fn,o_fn,3,1,1),\n",
        "                                   nn.BatchNorm2d(o_fn),\n",
        "                                   nn.ReLU(),\n",
        "                                   nn.Conv2d(o_fn,o_fn,3,1,1),\n",
        "                                   nn.BatchNorm2d(o_fn),\n",
        "                                   nn.ReLU()\n",
        "                                  )\n",
        "        return conv_block\n",
        "    # 逆畳み込みブロックの中身\n",
        "    def create_deconvblock(self,i_fn , o_fn):\n",
        "        deconv_block = nn.Sequential(nn.ConvTranspose2d(i_fn, o_fn, kernel_size=2, stride=2),\n",
        "                                      nn.BatchNorm2d(o_fn),\n",
        "                                      nn.ReLU(),\n",
        "                                     )\n",
        "        return deconv_block\n",
        "\n",
        "    # データの流れを定義     \n",
        "    def forward(self,x):\n",
        "        x = self.Encoder(x)\n",
        "        x = self.Decoder(x)\n",
        "        x = self.last_layer(x)           \n",
        "        return x"
      ],
      "metadata": {
        "id": "Lq8WId6ew8Sz"
      },
      "execution_count": 8,
      "outputs": []
    },
    {
      "cell_type": "code",
      "source": [
        "from tqdm import tqdm\n",
        "import torch.optim as optim\n",
        "import torch.nn.functional as F\n",
        "import torch\n",
        "\n",
        "epoch_num = 1000\n",
        "\n",
        "device = 'cuda'\n",
        "\n",
        "best_loss = None\n",
        "model = CustomModel().to(device)\n",
        "limit_epoch = 100\n",
        "\n",
        "\n",
        "optimizer = optim.Adam(model.parameters())\n",
        "criterion = nn.MSELoss()\n",
        "#criterion = nn.BCEWithLogitsLoss()\n",
        "loss_list = {\"train\":[],\"val\":[]}\n",
        "\n",
        "counter = 0\n",
        "for e in range(epoch_num):\n",
        "    total_loss = 0\n",
        "    model.train()\n",
        "    with tqdm(train_loader) as pbar:\n",
        "        for itr , data in enumerate(pbar):\n",
        "            optimizer.zero_grad()\n",
        "            data = data.to(device)\n",
        "            output = model(data)\n",
        "            loss = criterion(output , data)\n",
        "            total_loss += loss.detach().item()\n",
        "            pbar.set_description(f\"[train] Epoch {e+1:03}/{epoch_num:03} Itr {itr+1:02}/{len(pbar):02} Loss {total_loss/(itr+1):.3f}\")\n",
        "            loss.backward()\n",
        "            optimizer.step()\n",
        "    \n",
        "    loss_list[\"train\"].append(total_loss)\n",
        "    total_loss = 0\n",
        "    model.eval()\n",
        "    with tqdm(val_loader) as pbar:\n",
        "        for itr , data in enumerate(pbar):\n",
        "            data = data.to(device)\n",
        "            with torch.no_grad():\n",
        "                output = model(data)\n",
        "            loss = criterion(output , data)\n",
        "            total_loss += loss.detach().item()\n",
        "            pbar.set_description(f\"[ val ] Epoch {e+1:03}/{epoch_num:03} Itr {itr+1:02}/{len(pbar):02} Loss {total_loss/(itr+1):.3f}\")\n",
        "    \n",
        "    if best_loss is None or best_loss > total_loss/(itr+1):\n",
        "        if best_loss is not None:\n",
        "            print(f\"update best_loss {best_loss:.6f} to {total_loss/(itr+1):.6f}\")\n",
        "        best_loss = total_loss/(itr+1)\n",
        "        model_path = 'kobe_model.pth'\n",
        "        torch.save(model.state_dict(), model_path)\n",
        "        counter = 0\n",
        "    else:\n",
        "        counter += 1\n",
        "        if limit_epoch <= counter:\n",
        "            break\n",
        "    loss_list[\"val\"].append(total_loss)"
      ],
      "metadata": {
        "id": "ZCeh_bGSwoqT"
      },
      "execution_count": null,
      "outputs": []
    },
    {
      "cell_type": "code",
      "source": [
        "import numpy as np\n",
        "from PIL import Image\n",
        "\n",
        "\n",
        "model = CustomModel().cuda()\n",
        "\n",
        "model_path = 'kobe_model.pth'\n",
        "model.load_state_dict(torch.load(model_path))\n",
        "\n",
        "margin_w = 10\n",
        "prepocess = T.Compose([T.Resize((128,128)),\n",
        "                                T.ToTensor(),\n",
        "                                ])\n",
        "model.eval()\n",
        "loss_list = []\n",
        "labels = [0]*len(good_test_list) + [1]*len(bad_test_list)\n",
        "for idx , path in enumerate(tqdm(good_test_list + bad_test_list)):\n",
        "\n",
        "    img = Image.open(path)\n",
        "    img = prepocess(img).unsqueeze(0).cuda()\n",
        "    with torch.no_grad():\n",
        "        output = model(img)[0]\n",
        "    output = output.cpu().numpy().transpose(1,2,0)\n",
        "    output = np.uint8(np.maximum(np.minimum(output*255 ,255),0))\n",
        "    origin = np.uint8(img[0].cpu().numpy().transpose(1,2,0)*255)\n",
        "    \n",
        "    \n",
        "    diff = np.uint8(np.abs(output.astype(np.float32) - origin.astype(np.float32)))\n",
        "    loss_list.append(np.sum(diff))\n",
        "    heatmap = cv2.applyColorMap(diff , cv2.COLORMAP_JET)\n",
        "    margin = np.ones((diff.shape[0],margin_w,3))*255\n",
        "    \n",
        "    result = np.concatenate([origin[:,:,::-1],margin,output[:,:,::-1],margin,heatmap],axis = 1)\n",
        "    label = 'good' if idx < len(good_test_list) else 'bad'\n",
        "    cv2.imwrite(f\"./create_img/{idx}_{label}.jpg\",result)"
      ],
      "metadata": {
        "id": "o3dcRfCwwonS"
      },
      "execution_count": null,
      "outputs": []
    },
    {
      "cell_type": "code",
      "source": [
        "print( \"finish.\" )"
      ],
      "metadata": {
        "id": "YsUuiQIW-YfY"
      },
      "execution_count": null,
      "outputs": []
    },
    {
      "cell_type": "code",
      "source": [
        "# cd \"/content/drive/MyDrive/Colab Notebooks/imgs\"\n",
        "# cd \"/content/drive/MyDrive/Colab Notebooks/imgs/create_img\"\n",
        "# rm -r *.jpg\n",
        "# rm -r *.zip"
      ],
      "metadata": {
        "id": "CtHoRaxEJgEa"
      },
      "execution_count": null,
      "outputs": []
    },
    {
      "cell_type": "code",
      "source": [
        "# !bash"
      ],
      "metadata": {
        "id": "CDByR6XYJeS6"
      },
      "execution_count": null,
      "outputs": []
    }
  ]
}